{
 "cells": [
  {
   "cell_type": "markdown",
   "metadata": {},
   "source": [
    "# Week 6 (Wed) - Functions & HW 5"
   ]
  },
  {
   "cell_type": "markdown",
   "metadata": {},
   "source": [
    "## Syntax"
   ]
  },
  {
   "cell_type": "markdown",
   "metadata": {
    "slideshow": {
     "slide_type": "skip"
    }
   },
   "source": [
    "You now know how to run Python code, assign variables, and write control flow statements, which allows us to write programs that can do calculations. In fact, this is all you *really* need to write programs (except for being able to read in and write out data which we will talk about later). However, with only this, programs will quickly become very long and unreadable. So one very important rule in programming is to **avoid repetition**."
   ]
  },
  {
   "cell_type": "markdown",
   "metadata": {
    "slideshow": {
     "slide_type": "slide"
    }
   },
   "source": [
    "The syntax for a **function** is:\n",
    "    \n",
    "    def function_name(arguments):\n",
    "        # code here\n",
    "        return values"
   ]
  },
  {
   "cell_type": "markdown",
   "metadata": {
    "slideshow": {
     "slide_type": "slide"
    }
   },
   "source": [
    "Functions are the **building blocks** of programs - think of them as basic units that are given a certain input an accomplish a certain task. Over time, you can build up more complex programs while preserving readability."
   ]
  },
  {
   "cell_type": "markdown",
   "metadata": {
    "slideshow": {
     "slide_type": "slide"
    }
   },
   "source": [
    "Similarly to ``if`` statements and ``for`` and ``while`` loops, indentation is very important because it shows where the function starts and ends.\n",
    "\n",
    "**Note**: it is a common convention to always use **lowercase names** for functions."
   ]
  },
  {
   "cell_type": "markdown",
   "metadata": {
    "slideshow": {
     "slide_type": "slide"
    }
   },
   "source": [
    "A function can take multiple arguments..."
   ]
  },
  {
   "cell_type": "code",
   "execution_count": 1,
   "metadata": {},
   "outputs": [
    {
     "name": "stdout",
     "output_type": "stream",
     "text": [
      "2\n"
     ]
    }
   ],
   "source": [
    "def add(a, b):\n",
    "    return a + b\n",
    "\n",
    "print(add(1,1))"
   ]
  },
  {
   "cell_type": "code",
   "execution_count": 2,
   "metadata": {},
   "outputs": [
    {
     "name": "stdout",
     "output_type": "stream",
     "text": [
      "4\n"
     ]
    }
   ],
   "source": [
    "print(add(1,3))"
   ]
  },
  {
   "cell_type": "code",
   "execution_count": 3,
   "metadata": {},
   "outputs": [
    {
     "name": "stdout",
     "output_type": "stream",
     "text": [
      "4.2\n"
     ]
    }
   ],
   "source": [
    "print(add(1.,3.2))"
   ]
  },
  {
   "cell_type": "code",
   "execution_count": 4,
   "metadata": {},
   "outputs": [
    {
     "name": "stdout",
     "output_type": "stream",
     "text": [
      "7.0\n"
     ]
    }
   ],
   "source": [
    "print(add(4,3.))"
   ]
  },
  {
   "cell_type": "markdown",
   "metadata": {
    "slideshow": {
     "slide_type": "slide"
    }
   },
   "source": [
    "... and can also return multiple values:"
   ]
  },
  {
   "cell_type": "code",
   "execution_count": 5,
   "metadata": {},
   "outputs": [
    {
     "name": "stdout",
     "output_type": "stream",
     "text": [
      "(10.0, 2.5)\n"
     ]
    }
   ],
   "source": [
    "def double_and_halve(value):\n",
    "    double_value = value * 2\n",
    "    half_value = value / 2\n",
    "    return double_value, half_value\n",
    "\n",
    "print(double_and_halve(5.))"
   ]
  },
  {
   "cell_type": "code",
   "execution_count": 6,
   "metadata": {},
   "outputs": [
    {
     "name": "stdout",
     "output_type": "stream",
     "text": [
      "(10.0, 2.5)\n"
     ]
    }
   ],
   "source": [
    "def double_and_halve(value):\n",
    "    return value * 2., value / 2.\n",
    "\n",
    "print(double_and_halve(5.))"
   ]
  },
  {
   "cell_type": "markdown",
   "metadata": {
    "slideshow": {
     "slide_type": "slide"
    }
   },
   "source": [
    "If multiple values are returned, you can store them in separate variables."
   ]
  },
  {
   "cell_type": "code",
   "execution_count": 7,
   "metadata": {},
   "outputs": [],
   "source": [
    "d, h = double_and_halve(5.)"
   ]
  },
  {
   "cell_type": "code",
   "execution_count": 8,
   "metadata": {},
   "outputs": [
    {
     "name": "stdout",
     "output_type": "stream",
     "text": [
      "10.0\n"
     ]
    }
   ],
   "source": [
    "print(d)"
   ]
  },
  {
   "cell_type": "code",
   "execution_count": 9,
   "metadata": {},
   "outputs": [
    {
     "name": "stdout",
     "output_type": "stream",
     "text": [
      "2.5\n"
     ]
    }
   ],
   "source": [
    "print(h)"
   ]
  },
  {
   "cell_type": "markdown",
   "metadata": {
    "slideshow": {
     "slide_type": "slide"
    }
   },
   "source": [
    "Functions can call other functions:"
   ]
  },
  {
   "cell_type": "code",
   "execution_count": 10,
   "metadata": {},
   "outputs": [],
   "source": [
    "def do_a():\n",
    "    print(\"doing A\")\n",
    "    \n",
    "def do_b():\n",
    "    print(\"doing B\")\n",
    "    \n",
    "def do_a_and_b():\n",
    "    do_a()\n",
    "    do_b()"
   ]
  },
  {
   "cell_type": "code",
   "execution_count": 11,
   "metadata": {},
   "outputs": [
    {
     "name": "stdout",
     "output_type": "stream",
     "text": [
      "doing A\n"
     ]
    }
   ],
   "source": [
    "do_a()"
   ]
  },
  {
   "cell_type": "code",
   "execution_count": 12,
   "metadata": {},
   "outputs": [
    {
     "name": "stdout",
     "output_type": "stream",
     "text": [
      "doing B\n"
     ]
    }
   ],
   "source": [
    "do_b()"
   ]
  },
  {
   "cell_type": "code",
   "execution_count": 13,
   "metadata": {
    "slideshow": {
     "slide_type": "slide"
    }
   },
   "outputs": [
    {
     "name": "stdout",
     "output_type": "stream",
     "text": [
      "doing A\n",
      "doing B\n"
     ]
    }
   ],
   "source": [
    "do_a_and_b()"
   ]
  },
  {
   "cell_type": "markdown",
   "metadata": {
    "slideshow": {
     "slide_type": "slide"
    }
   },
   "source": [
    "**Just because you can put code in functions doesn't mean you always should**. Only use functions to avoid repeating code, or if it makes the program clearer. It's best to try and break up the code into units that make sense - in the end, your function should ideally have a name that everyone can understand."
   ]
  },
  {
   "cell_type": "markdown",
   "metadata": {},
   "source": [
    "## Exercise 1"
   ]
  },
  {
   "cell_type": "markdown",
   "metadata": {},
   "source": [
    "Copy your code that finds prime numbers here and modify it so as to make it a function that given a number will **return** ``True`` or ``False`` depending on whether it is prime."
   ]
  },
  {
   "cell_type": "code",
   "execution_count": 28,
   "metadata": {},
   "outputs": [
    {
     "name": "stdout",
     "output_type": "stream",
     "text": [
      "True    2  is a prime number!!!!\n",
      "True    3  is a prime number!!!!\n",
      "False    4  is not a prime\n",
      "True    5  is a prime number!!!!\n",
      "False    6  is not a prime\n",
      "True    7  is a prime number!!!!\n",
      "False    8  is not a prime\n",
      "True    9  is a prime number!!!!\n",
      "False    10  is not a prime\n",
      "True    11  is a prime number!!!!\n",
      "False    12  is not a prime\n",
      "True    13  is a prime number!!!!\n",
      "False    14  is not a prime\n",
      "True    15  is a prime number!!!!\n",
      "False    16  is not a prime\n",
      "True    17  is a prime number!!!!\n",
      "False    18  is not a prime\n",
      "True    19  is a prime number!!!!\n",
      "False    20  is not a prime\n"
     ]
    }
   ],
   "source": [
    " \n",
    "def is_prime(number):\n",
    "    if number < 2: \n",
    "        return False \n",
    "    if number == 2: \n",
    "        return True\n",
    "    for i in range (2, number): \n",
    "        if number % i == 0: \n",
    "            return False \n",
    "        return True \n",
    "            \n",
    "    \n",
    "for j in range(2,21):\n",
    "    if is_prime(j):\n",
    "        print(is_prime(j), \"  \", j, \" is a prime number!!!!\")\n",
    "    else:\n",
    "        print(is_prime(j), \"  \", j, \" is not a prime\")"
   ]
  },
  {
   "cell_type": "markdown",
   "metadata": {},
   "source": [
    "## Optional Arguments"
   ]
  },
  {
   "cell_type": "markdown",
   "metadata": {},
   "source": [
    "In addition to normal arguments, functions can take **optional** arguments that can default to a certain value. For example, in the following case:"
   ]
  },
  {
   "cell_type": "code",
   "execution_count": 29,
   "metadata": {},
   "outputs": [],
   "source": [
    "def say_hello(first_name, middle_name='', last_name=''):\n",
    "    print(\"Hello, my name is \" + first_name)\n",
    "    if middle_name != '':\n",
    "        print(\"my middle name is \" + middle_name)\n",
    "    if last_name != '':\n",
    "        print(\"and my last name is \" + last_name)"
   ]
  },
  {
   "cell_type": "markdown",
   "metadata": {},
   "source": [
    "we can call the function either with one argument:"
   ]
  },
  {
   "cell_type": "code",
   "execution_count": 30,
   "metadata": {},
   "outputs": [
    {
     "name": "stdout",
     "output_type": "stream",
     "text": [
      "Hello, my name is Annie\n"
     ]
    }
   ],
   "source": [
    "say_hello(\"Annie\")"
   ]
  },
  {
   "cell_type": "markdown",
   "metadata": {},
   "source": [
    "and we can also give one or both optional arguments (and the optional arguments can be given in any order):"
   ]
  },
  {
   "cell_type": "code",
   "execution_count": 31,
   "metadata": {},
   "outputs": [
    {
     "name": "stdout",
     "output_type": "stream",
     "text": [
      "Hello, my name is Annie\n",
      "and my last name is Cannon\n"
     ]
    }
   ],
   "source": [
    "say_hello(\"Annie\", last_name=\"Cannon\")"
   ]
  },
  {
   "cell_type": "code",
   "execution_count": 32,
   "metadata": {},
   "outputs": [
    {
     "name": "stdout",
     "output_type": "stream",
     "text": [
      "Hello, my name is Annie\n",
      "my middle name is Jump\n",
      "and my last name is Cannon\n"
     ]
    }
   ],
   "source": [
    "say_hello(\"Annie\", middle_name=\"Jump\", last_name=\"Cannon\")"
   ]
  },
  {
   "cell_type": "code",
   "execution_count": 33,
   "metadata": {},
   "outputs": [
    {
     "name": "stdout",
     "output_type": "stream",
     "text": [
      "Hello, my name is Annie\n",
      "my middle name is Jump\n"
     ]
    }
   ],
   "source": [
    "say_hello(\"Annie\", middle_name=\"Jump\")"
   ]
  },
  {
   "cell_type": "code",
   "execution_count": 34,
   "metadata": {},
   "outputs": [
    {
     "name": "stdout",
     "output_type": "stream",
     "text": [
      "Hello, my name is Annie\n",
      "my middle name is Jump\n",
      "and my last name is Cannon\n"
     ]
    }
   ],
   "source": [
    "say_hello(\"Annie\", last_name=\"Cannon\", middle_name=\"Jump\")"
   ]
  },
  {
   "cell_type": "markdown",
   "metadata": {},
   "source": [
    "## Built-in functions"
   ]
  },
  {
   "cell_type": "markdown",
   "metadata": {
    "slideshow": {
     "slide_type": "slide"
    }
   },
   "source": [
    "Some of you may have already noticed that there are a few functions that are defined by default in Python:"
   ]
  },
  {
   "cell_type": "code",
   "execution_count": 35,
   "metadata": {},
   "outputs": [],
   "source": [
    "x = [1,3,6,8,3]"
   ]
  },
  {
   "cell_type": "code",
   "execution_count": 36,
   "metadata": {},
   "outputs": [
    {
     "data": {
      "text/plain": [
       "5"
      ]
     },
     "execution_count": 36,
     "metadata": {},
     "output_type": "execute_result"
    }
   ],
   "source": [
    "len(x)"
   ]
  },
  {
   "cell_type": "code",
   "execution_count": 37,
   "metadata": {
    "slideshow": {
     "slide_type": "slide"
    }
   },
   "outputs": [
    {
     "data": {
      "text/plain": [
       "21"
      ]
     },
     "execution_count": 37,
     "metadata": {},
     "output_type": "execute_result"
    }
   ],
   "source": [
    "sum(x)"
   ]
  },
  {
   "cell_type": "code",
   "execution_count": 38,
   "metadata": {},
   "outputs": [
    {
     "data": {
      "text/plain": [
       "1"
      ]
     },
     "execution_count": 38,
     "metadata": {},
     "output_type": "execute_result"
    }
   ],
   "source": [
    "int(1.2)"
   ]
  },
  {
   "cell_type": "markdown",
   "metadata": {
    "slideshow": {
     "slide_type": "slide"
    }
   },
   "source": [
    "A full list of built-in functions is available [here](http://docs.python.org/3/library/functions.html). Note that there are not *that* many - these are only the most common functions. Most functions are in fact kept inside **modules**, which we will cover later."
   ]
  },
  {
   "cell_type": "markdown",
   "metadata": {},
   "source": [
    "## Exercise 2"
   ]
  },
  {
   "cell_type": "markdown",
   "metadata": {},
   "source": [
    "Try and write a function that will return the factorial of a number (e.g. ``5!=5*4*3*2*1``). First you can try and write a function that uses a loop internally."
   ]
  },
  {
   "cell_type": "code",
   "execution_count": 49,
   "metadata": {},
   "outputs": [
    {
     "data": {
      "text/plain": [
       "1"
      ]
     },
     "execution_count": 49,
     "metadata": {},
     "output_type": "execute_result"
    }
   ],
   "source": [
    "def factorial(num):\n",
    "        if num < 0: \n",
    "            return (\"Factorial is not defined for negative numbers\") \n",
    "        elif num == 0 or num ==1: \n",
    "            return 1 \n",
    "        else: \n",
    "            return num * factorial(num-1) \n",
    "        \n",
    "\n",
    "factorial(0)\n"
   ]
  },
  {
   "cell_type": "markdown",
   "metadata": {},
   "source": [
    "## Exercise 2a"
   ]
  },
  {
   "cell_type": "markdown",
   "metadata": {},
   "source": [
    "It is possible for functions to call themselves (**recursive** functions), so see if you can write a function that uses **no** loops!"
   ]
  },
  {
   "cell_type": "code",
   "execution_count": 50,
   "metadata": {},
   "outputs": [
    {
     "ename": "TypeError",
     "evalue": "unsupported operand type(s) for *: 'int' and 'function'",
     "output_type": "error",
     "traceback": [
      "\u001b[0;31m---------------------------------------------------------------------------\u001b[0m",
      "\u001b[0;31mTypeError\u001b[0m                                 Traceback (most recent call last)",
      "Cell \u001b[0;32mIn[50], line 9\u001b[0m\n\u001b[1;32m      6\u001b[0m     \u001b[38;5;28;01melse\u001b[39;00m: \n\u001b[1;32m      7\u001b[0m         \u001b[38;5;28;01mreturn\u001b[39;00m num \u001b[38;5;241m*\u001b[39m factorial_recur\n\u001b[0;32m----> 9\u001b[0m factorial_recur(\u001b[38;5;241m10\u001b[39m)\n",
      "Cell \u001b[0;32mIn[50], line 7\u001b[0m, in \u001b[0;36mfactorial_recur\u001b[0;34m(num)\u001b[0m\n\u001b[1;32m      5\u001b[0m     \u001b[38;5;28;01mreturn\u001b[39;00m \u001b[38;5;241m1\u001b[39m \n\u001b[1;32m      6\u001b[0m \u001b[38;5;28;01melse\u001b[39;00m: \n\u001b[0;32m----> 7\u001b[0m     \u001b[38;5;28;01mreturn\u001b[39;00m num \u001b[38;5;241m*\u001b[39m factorial_recur\n",
      "\u001b[0;31mTypeError\u001b[0m: unsupported operand type(s) for *: 'int' and 'function'"
     ]
    }
   ],
   "source": [
    "def factorial_recur(num):\n",
    "    if num < 0: \n",
    "        return (\"Factorial is not defined for negative numbers\") \n",
    "    elif num == 0 or num ==1: \n",
    "        return 1 \n",
    "    else: \n",
    "        return num * factorial_recur\n",
    "\n",
    "factorial_recur(10)"
   ]
  },
  {
   "cell_type": "markdown",
   "metadata": {},
   "source": [
    "## Exercise 3"
   ]
  },
  {
   "cell_type": "markdown",
   "metadata": {},
   "source": [
    "Write a function that takes a list, and returns the mean (average)and median of the values. Test it with the following list:"
   ]
  },
  {
   "cell_type": "code",
   "execution_count": 57,
   "metadata": {},
   "outputs": [
    {
     "ename": "NameError",
     "evalue": "name 'median' is not defined",
     "output_type": "error",
     "traceback": [
      "\u001b[0;31m---------------------------------------------------------------------------\u001b[0m",
      "\u001b[0;31mNameError\u001b[0m                                 Traceback (most recent call last)",
      "Cell \u001b[0;32mIn[57], line 9\u001b[0m\n\u001b[1;32m      5\u001b[0m     median(l) \n\u001b[1;32m      7\u001b[0m     \u001b[38;5;28;01mreturn\u001b[39;00m mean, median\n\u001b[0;32m----> 9\u001b[0m \u001b[38;5;28mprint\u001b[39m(mean_median(l))\n",
      "Cell \u001b[0;32mIn[57], line 5\u001b[0m, in \u001b[0;36mmean_median\u001b[0;34m(list_inp)\u001b[0m\n\u001b[1;32m      3\u001b[0m \u001b[38;5;28;01mdef\u001b[39;00m \u001b[38;5;21mmean_median\u001b[39m(list_inp):\n\u001b[1;32m      4\u001b[0m     mean \u001b[38;5;241m=\u001b[39m \u001b[38;5;28msum\u001b[39m(l) \u001b[38;5;241m/\u001b[39m \u001b[38;5;28mlen\u001b[39m(l) \n\u001b[0;32m----> 5\u001b[0m     median(l) \n\u001b[1;32m      7\u001b[0m     \u001b[38;5;28;01mreturn\u001b[39;00m mean, median\n",
      "\u001b[0;31mNameError\u001b[0m: name 'median' is not defined"
     ]
    }
   ],
   "source": [
    "l = [1, 3, 3, 4, 5, 17]\n",
    "\n",
    "def mean_median(list_inp):\n",
    "    mean = sum(l) / len(l) \n",
    "    median =  \n",
    "    \n",
    "    return mean, median\n",
    "\n",
    "print(mean_median(l))"
   ]
  },
  {
   "cell_type": "markdown",
   "metadata": {},
   "source": [
    "# Homework 5 - Due Friday Sept 26, 5pm"
   ]
  },
  {
   "cell_type": "code",
   "execution_count": null,
   "metadata": {},
   "outputs": [],
   "source": []
  },
  {
   "cell_type": "markdown",
   "metadata": {},
   "source": [
    "*The semi-empirical mass formula*\n",
    "\n",
    "In nuclear physics, the semi-empirical mass formula is a formula for calculating the\n",
    "approximate nuclear binding energy $B$ of an atomic nucleus with atomic number $Z$\n",
    "and mass number $A$. The formula looks like this:\n",
    "    \n",
    "$$ B = a_1 A - a_2 A^{2/3} - a_3 \\frac{Z^2}{A^{1/3}} - a_4 \\frac{(A - 2Z)^2}{A} - \\frac{a_5}{A^{1/2}} $$\n",
    "\n",
    "where, in units of millions of electron volts (MeV), the constants are $a_1 =\n",
    "15.67$, $a_2 = 17.23$, $a_3 = 0.75$, $a_4 = 93.2$, and\n",
    "\n",
    "$$ a_5  \\; =  \\;\\; \\left\\{ \\begin{array} {r@{\\quad\\tt if \\quad}l} 0 & A \\;{\\tt is\n",
    "      \\; odd}, \\\\\n",
    "    12.0 & A \\;{\\tt and}\\; Z \\;{\\tt are \\;both \\;even}, \\\\ -12.0 & A \\;{\\tt is\n",
    "     \\;  even \\; and}\\;  Z \\;{\\tt is\n",
    "  \\;  odd.} \\end{array} \\right. $$\n",
    "\n",
    "Write a function that takes as its input the values of $A$ and $Z$, and\n",
    "prints out: \n",
    "* (a) the binding energy $B$ for the corresponding atom and \n",
    "* (b) the binding energy per nucleon, which is $B/A$. \n",
    "\n",
    "Use your program to find\n",
    "the binding energy of an atom with $A = 58$ and $Z = 28$. (Hint: The\n",
    "correct answer is around 490 MeV.) \n",
    "\n",
    "Also run,  $A = 59$ and $Z = 28$ and $A = 58$ and $Z = 27$."
   ]
  },
  {
   "cell_type": "code",
   "execution_count": 83,
   "metadata": {},
   "outputs": [
    {
     "name": "stdin",
     "output_type": "stream",
     "text": [
      "Input mass number: 58\n",
      "Input atomic number: 28\n"
     ]
    },
    {
     "name": "stdout",
     "output_type": "stream",
     "text": [
      "The total binding eneregy and binding energy per nucleon is (491.9461365036033, 8.481829939717299)\n"
     ]
    }
   ],
   "source": [
    "A = int(input(\"Input mass number:\"))\n",
    "Z = int(input(\"Input atomic number:\")) \n",
    "def get_a5 (A,Z): \n",
    "    N = A - Z\n",
    "    if A % 2 != 0: \n",
    "        return 0 \n",
    "    elif Z % 2 ==0 and N % 2 == 0: \n",
    "        return +12 \n",
    "    else: \n",
    "        return -12 \n",
    "        \n",
    "def se_mass(A,Z): \n",
    "    a5 = get_a5(A,Z) \n",
    "    B = (15.67*A) -(17.23*A**(2/3)) -0.75*(Z**2/ A**(1/3)) -93.2*(((A - 2*Z)**2)/A) -(a5/(A**1/2))\n",
    "    \n",
    "    return B, B/A \n",
    "\n",
    "\n",
    "\n",
    "    \n",
    "    \n",
    "print(\"The total binding eneregy and binding energy per nucleon is \" + str(se_mass(A,Z)))"
   ]
  },
  {
   "cell_type": "code",
   "execution_count": null,
   "metadata": {},
   "outputs": [],
   "source": []
  }
 ],
 "metadata": {
  "kernelspec": {
   "display_name": "Python [conda env:base] *",
   "language": "python",
   "name": "conda-base-py"
  },
  "language_info": {
   "codemirror_mode": {
    "name": "ipython",
    "version": 3
   },
   "file_extension": ".py",
   "mimetype": "text/x-python",
   "name": "python",
   "nbconvert_exporter": "python",
   "pygments_lexer": "ipython3",
   "version": "3.12.7"
  }
 },
 "nbformat": 4,
 "nbformat_minor": 4
}
